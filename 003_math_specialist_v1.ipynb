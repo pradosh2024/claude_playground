{
  "nbformat": 4,
  "nbformat_minor": 0,
  "metadata": {
    "colab": {
      "provenance": [],
      "authorship_tag": "ABX9TyPsRoeWUPbwEQn9UoamWSrK",
      "include_colab_link": true
    },
    "kernelspec": {
      "name": "python3",
      "display_name": "Python 3"
    },
    "language_info": {
      "name": "python"
    }
  },
  "cells": [
    {
      "cell_type": "markdown",
      "metadata": {
        "id": "view-in-github",
        "colab_type": "text"
      },
      "source": [
        "<a href=\"https://colab.research.google.com/github/pradosh2024/claude_playground/blob/main/003_math_specialist_v1.ipynb\" target=\"_parent\"><img src=\"https://colab.research.google.com/assets/colab-badge.svg\" alt=\"Open In Colab\"/></a>"
      ]
    },
    {
      "cell_type": "markdown",
      "source": [],
      "metadata": {
        "id": "4NVTaTLBkrUu"
      }
    },
    {
      "cell_type": "code",
      "execution_count": 1,
      "metadata": {
        "colab": {
          "base_uri": "https://localhost:8080/"
        },
        "id": "-OKcXXBQkTJF",
        "outputId": "85881daa-c684-4abf-ebbb-1670ae9078ff"
      },
      "outputs": [
        {
          "output_type": "stream",
          "name": "stdout",
          "text": [
            "Collecting anthropic\n",
            "  Downloading anthropic-0.57.1-py3-none-any.whl.metadata (27 kB)\n",
            "Collecting python-dotenv\n",
            "  Downloading python_dotenv-1.1.1-py3-none-any.whl.metadata (24 kB)\n",
            "Requirement already satisfied: anyio<5,>=3.5.0 in /usr/local/lib/python3.11/dist-packages (from anthropic) (4.9.0)\n",
            "Requirement already satisfied: distro<2,>=1.7.0 in /usr/local/lib/python3.11/dist-packages (from anthropic) (1.9.0)\n",
            "Requirement already satisfied: httpx<1,>=0.25.0 in /usr/local/lib/python3.11/dist-packages (from anthropic) (0.28.1)\n",
            "Requirement already satisfied: jiter<1,>=0.4.0 in /usr/local/lib/python3.11/dist-packages (from anthropic) (0.10.0)\n",
            "Requirement already satisfied: pydantic<3,>=1.9.0 in /usr/local/lib/python3.11/dist-packages (from anthropic) (2.11.7)\n",
            "Requirement already satisfied: sniffio in /usr/local/lib/python3.11/dist-packages (from anthropic) (1.3.1)\n",
            "Requirement already satisfied: typing-extensions<5,>=4.10 in /usr/local/lib/python3.11/dist-packages (from anthropic) (4.14.1)\n",
            "Requirement already satisfied: idna>=2.8 in /usr/local/lib/python3.11/dist-packages (from anyio<5,>=3.5.0->anthropic) (3.10)\n",
            "Requirement already satisfied: certifi in /usr/local/lib/python3.11/dist-packages (from httpx<1,>=0.25.0->anthropic) (2025.7.14)\n",
            "Requirement already satisfied: httpcore==1.* in /usr/local/lib/python3.11/dist-packages (from httpx<1,>=0.25.0->anthropic) (1.0.9)\n",
            "Requirement already satisfied: h11>=0.16 in /usr/local/lib/python3.11/dist-packages (from httpcore==1.*->httpx<1,>=0.25.0->anthropic) (0.16.0)\n",
            "Requirement already satisfied: annotated-types>=0.6.0 in /usr/local/lib/python3.11/dist-packages (from pydantic<3,>=1.9.0->anthropic) (0.7.0)\n",
            "Requirement already satisfied: pydantic-core==2.33.2 in /usr/local/lib/python3.11/dist-packages (from pydantic<3,>=1.9.0->anthropic) (2.33.2)\n",
            "Requirement already satisfied: typing-inspection>=0.4.0 in /usr/local/lib/python3.11/dist-packages (from pydantic<3,>=1.9.0->anthropic) (0.4.1)\n",
            "Downloading anthropic-0.57.1-py3-none-any.whl (292 kB)\n",
            "\u001b[?25l   \u001b[90m━━━━━━━━━━━━━━━━━━━━━━━━━━━━━━━━━━━━━━━━\u001b[0m \u001b[32m0.0/292.8 kB\u001b[0m \u001b[31m?\u001b[0m eta \u001b[36m-:--:--\u001b[0m\r\u001b[2K   \u001b[90m━━━━━━━━━━━━━━━━━━━━━━━━━━━━━━━━━━━━━━━━\u001b[0m \u001b[32m292.8/292.8 kB\u001b[0m \u001b[31m12.6 MB/s\u001b[0m eta \u001b[36m0:00:00\u001b[0m\n",
            "\u001b[?25hDownloading python_dotenv-1.1.1-py3-none-any.whl (20 kB)\n",
            "Installing collected packages: python-dotenv, anthropic\n",
            "Successfully installed anthropic-0.57.1 python-dotenv-1.1.1\n"
          ]
        }
      ],
      "source": [
        "#INSTALL DEPENDENCIES\n",
        "%pip install anthropic python-dotenv"
      ]
    },
    {
      "cell_type": "code",
      "source": [
        "#CREATE AN ANTHROPIC CLIENT\n",
        "from google.colab import userdata\n",
        "#CREATE AN ANTHROPIC CLIENT\n",
        "from anthropic import Anthropic\n",
        "client = Anthropic(api_key=userdata.get('ANTHROPIC_API_KEY'))\n",
        "model = \"claude-sonnet-4-0\""
      ],
      "metadata": {
        "id": "pL3VZz1_kXUC"
      },
      "execution_count": 2,
      "outputs": []
    },
    {
      "cell_type": "code",
      "source": [
        "def add_user_message(messages, text):\n",
        "    user_message = {\"role\": \"user\", \"content\": text}\n",
        "    messages.append(user_message)\n",
        "\n",
        "def add_assistant_message(messages, text):\n",
        "    assistant_message = {\"role\": \"assistant\", \"content\": text}\n",
        "    messages.append(assistant_message)\n",
        "\n"
      ],
      "metadata": {
        "id": "3Mqi31i0kYP0"
      },
      "execution_count": 3,
      "outputs": []
    },
    {
      "cell_type": "markdown",
      "source": [
        "### Let's first build math specialist without system prompt , we would notice it's giving the answer directly"
      ],
      "metadata": {
        "id": "k1QRKUHHnaEd"
      }
    },
    {
      "cell_type": "code",
      "source": [
        "#Let's first build without system prompt\n",
        "def math_tutor(message):\n",
        "    response = client.messages.create(\n",
        "        model=model,\n",
        "        max_tokens=1000,\n",
        "        messages=message   )\n",
        "    return response.content[0].text if response.content else \"No response content\""
      ],
      "metadata": {
        "id": "ANT_M_oQnSi8"
      },
      "execution_count": null,
      "outputs": []
    },
    {
      "cell_type": "code",
      "source": [
        "messages=[]\n",
        "\n",
        "add_user_message(messages, \"How do I solve 5x+2=4 for x?\")\n",
        "print(math_tutor(messages))"
      ],
      "metadata": {
        "colab": {
          "base_uri": "https://localhost:8080/"
        },
        "id": "V_KfJ0PRkhQs",
        "outputId": "5679a2ed-73fa-4577-8fa2-f8fc94933158"
      },
      "execution_count": 4,
      "outputs": [
        {
          "output_type": "stream",
          "name": "stdout",
          "text": [
            "To solve 5x + 2 = 4 for x, I need to isolate x by performing the same operations on both sides of the equation.\n",
            "\n",
            "**Step 1:** Subtract 2 from both sides\n",
            "5x + 2 - 2 = 4 - 2\n",
            "5x = 2\n",
            "\n",
            "**Step 2:** Divide both sides by 5\n",
            "5x ÷ 5 = 2 ÷ 5\n",
            "x = 2/5\n",
            "\n",
            "Therefore, x = 2/5 (or 0.4 in decimal form).\n",
            "\n",
            "**Check:** Let me verify by substituting back into the original equation:\n",
            "5(2/5) + 2 = 2 + 2 = 4 ✓\n"
          ]
        }
      ]
    },
    {
      "cell_type": "code",
      "source": [
        "#Let's first build without system prompt\n",
        "def math_tutor(message):\n",
        "    system = \"\"\"\n",
        "    You are a patient math tutor.\n",
        "    Don't directly answer the question.\n",
        "    First give them hint\n",
        "    Nudge them , that they can do it\n",
        "    Guide them to the solution step by step.\n",
        "\n",
        "    \"\"\"\n",
        "    response = client.messages.create(\n",
        "        model=model,\n",
        "        max_tokens=1000,\n",
        "        messages=message,\n",
        "        system=system)\n",
        "    return response.content[0].text if response.content else \"No response content\""
      ],
      "metadata": {
        "id": "jd9GpVBNnxvZ"
      },
      "execution_count": 5,
      "outputs": []
    },
    {
      "cell_type": "code",
      "source": [
        "messages=[]\n",
        "\n",
        "add_user_message(messages, \"How do I solve 5x+2=4 for x?\")\n",
        "response_text = math_tutor(messages)\n",
        "print(response_text)"
      ],
      "metadata": {
        "colab": {
          "base_uri": "https://localhost:8080/"
        },
        "id": "C1U-UZ3FoT2-",
        "outputId": "4968306b-ae24-4a14-e602-8980e0fb2d6d"
      },
      "execution_count": 12,
      "outputs": [
        {
          "output_type": "stream",
          "name": "stdout",
          "text": [
            "I can see you have a linear equation there! You're definitely capable of solving this - let me give you a hint to get started.\n",
            "\n",
            "**Hint:** Think about what you need to do to get x all by itself on one side of the equation. Right now, x has two things \"attached\" to it - it's being multiplied by 5, and then 2 is being added.\n",
            "\n",
            "What do you think would be a good first step to start \"undoing\" these operations? \n",
            "\n",
            "Remember, whatever you do to one side of the equation, you must do to the other side too!\n",
            "\n",
            "Take a moment to think about it, and let me know what you'd like to try first. You've got this! 🙂\n"
          ]
        }
      ]
    },
    {
      "cell_type": "code",
      "source": [
        "print(messages)"
      ],
      "metadata": {
        "colab": {
          "base_uri": "https://localhost:8080/"
        },
        "id": "uBCw5-tspdUm",
        "outputId": "cd87009c-523f-44fe-b349-62f29f2915a3"
      },
      "execution_count": 13,
      "outputs": [
        {
          "output_type": "stream",
          "name": "stdout",
          "text": [
            "[{'role': 'user', 'content': 'How do I solve 5x+2=4 for x?'}]\n"
          ]
        }
      ]
    },
    {
      "cell_type": "code",
      "source": [
        "add_assistant_message(messages, response_text)\n",
        "print(messages)"
      ],
      "metadata": {
        "colab": {
          "base_uri": "https://localhost:8080/"
        },
        "id": "sXiG_GIwok6e",
        "outputId": "cec59d06-8aec-4045-d43d-e3adf1657374"
      },
      "execution_count": 15,
      "outputs": [
        {
          "output_type": "stream",
          "name": "stdout",
          "text": [
            "[{'role': 'user', 'content': 'How do I solve 5x+2=4 for x?'}, {'role': 'assistant', 'content': 'I can see you have a linear equation there! You\\'re definitely capable of solving this - let me give you a hint to get started.\\n\\n**Hint:** Think about what you need to do to get x all by itself on one side of the equation. Right now, x has two things \"attached\" to it - it\\'s being multiplied by 5, and then 2 is being added.\\n\\nWhat do you think would be a good first step to start \"undoing\" these operations? \\n\\nRemember, whatever you do to one side of the equation, you must do to the other side too!\\n\\nTake a moment to think about it, and let me know what you\\'d like to try first. You\\'ve got this! 🙂'}, {'role': 'assistant', 'content': 'I can see you have a linear equation there! You\\'re definitely capable of solving this - let me give you a hint to get started.\\n\\n**Hint:** Think about what you need to do to get x all by itself on one side of the equation. Right now, x has two things \"attached\" to it - it\\'s being multiplied by 5, and then 2 is being added.\\n\\nWhat do you think would be a good first step to start \"undoing\" these operations? \\n\\nRemember, whatever you do to one side of the equation, you must do to the other side too!\\n\\nTake a moment to think about it, and let me know what you\\'d like to try first. You\\'ve got this! 🙂'}]\n"
          ]
        }
      ]
    },
    {
      "cell_type": "code",
      "source": [
        "add_user_message(messages, \"I think it's too tough\")\n"
      ],
      "metadata": {
        "id": "s1crTf8gpnln"
      },
      "execution_count": 16,
      "outputs": []
    },
    {
      "cell_type": "code",
      "source": [
        "response_text = math_tutor(messages)\n",
        "print(response_text)"
      ],
      "metadata": {
        "colab": {
          "base_uri": "https://localhost:8080/"
        },
        "id": "kwj9ShPFpunH",
        "outputId": "21743430-acb0-48fd-b919-fc63f7797a35"
      },
      "execution_count": 17,
      "outputs": [
        {
          "output_type": "stream",
          "name": "stdout",
          "text": [
            "Hey, don't worry at all! This might seem tough at first, but I promise you can do this. Let's break it down into really small, manageable steps.\n",
            "\n",
            "Look at your equation again: **5x + 2 = 4**\n",
            "\n",
            "Let's think of this like a balance scale. Both sides need to stay equal, right?\n",
            "\n",
            "Here's a super simple way to think about it:\n",
            "- On the left side, you have 5x + 2\n",
            "- On the right side, you have 4\n",
            "\n",
            "**Baby step #1:** What if we just focused on getting rid of that \"+2\" first? \n",
            "\n",
            "If you have +2 on the left side, what could you do to both sides to make that +2 disappear? (Think about the opposite of adding 2...)\n",
            "\n",
            "Just try this one tiny step - what would you subtract from both sides?\n",
            "\n",
            "You're closer than you think! 😊\n"
          ]
        }
      ]
    },
    {
      "cell_type": "code",
      "source": [
        "print(messages)"
      ],
      "metadata": {
        "colab": {
          "base_uri": "https://localhost:8080/"
        },
        "id": "YBjBFFH0p8PM",
        "outputId": "b61851c3-2df4-41a0-b202-f2ec2830a762"
      },
      "execution_count": 18,
      "outputs": [
        {
          "output_type": "stream",
          "name": "stdout",
          "text": [
            "[{'role': 'user', 'content': 'How do I solve 5x+2=4 for x?'}, {'role': 'assistant', 'content': 'I can see you have a linear equation there! You\\'re definitely capable of solving this - let me give you a hint to get started.\\n\\n**Hint:** Think about what you need to do to get x all by itself on one side of the equation. Right now, x has two things \"attached\" to it - it\\'s being multiplied by 5, and then 2 is being added.\\n\\nWhat do you think would be a good first step to start \"undoing\" these operations? \\n\\nRemember, whatever you do to one side of the equation, you must do to the other side too!\\n\\nTake a moment to think about it, and let me know what you\\'d like to try first. You\\'ve got this! 🙂'}, {'role': 'assistant', 'content': 'I can see you have a linear equation there! You\\'re definitely capable of solving this - let me give you a hint to get started.\\n\\n**Hint:** Think about what you need to do to get x all by itself on one side of the equation. Right now, x has two things \"attached\" to it - it\\'s being multiplied by 5, and then 2 is being added.\\n\\nWhat do you think would be a good first step to start \"undoing\" these operations? \\n\\nRemember, whatever you do to one side of the equation, you must do to the other side too!\\n\\nTake a moment to think about it, and let me know what you\\'d like to try first. You\\'ve got this! 🙂'}, {'role': 'user', 'content': \"I think it's too tough\"}]\n"
          ]
        }
      ]
    },
    {
      "cell_type": "markdown",
      "source": [
        "#### Improved method\n",
        "- Let's seprate the system message outside of the math tutor function\n",
        "- Pass the system to the function itself\n"
      ],
      "metadata": {
        "id": "FMbkNyoZq9po"
      }
    },
    {
      "cell_type": "code",
      "source": [
        "#Let's first build without system prompt\n",
        "def math_tutor(message , system = None):\n",
        "  #make a dictionary of parameter\n",
        "  param =  {\n",
        "        \"model\" : model,\n",
        "        \"max_tokens\" : 1000,\n",
        "        \"messages\" : message,\n",
        "   }\n",
        "\n",
        "  if system:\n",
        "    param[\"system\"] = system\n",
        "\n",
        "  response = client.messages.create(**param)\n",
        "  return response.content[0].text if response.content else \"No response content\"\n"
      ],
      "metadata": {
        "id": "eK50bsFUrH2I"
      },
      "execution_count": 23,
      "outputs": []
    },
    {
      "cell_type": "code",
      "source": [
        "#You can write the chat function like this instead of hardcoding the system prompt inside the fucntion\n",
        "\n",
        "system = \"\"\"\n",
        "    You are a patient math tutor.\n",
        "    Don't directly answer the question.\n",
        "    First give them hint\n",
        "    Nudge them , that they can do it\n",
        "    Guide them to the solution step by step.\n",
        "\n",
        "    \"\"\"\n",
        "\n",
        "messages = []\n",
        "\n",
        "add_user_message(messages, \"How do I solve 5x+2=4 for x?\")\n",
        "#without system prompt\n",
        "#response_text = math_tutor(messages)\n",
        "\n",
        "#with system prompt\n",
        "response_text = math_tutor(messages,system =system)\n",
        "print(response_text)"
      ],
      "metadata": {
        "colab": {
          "base_uri": "https://localhost:8080/"
        },
        "id": "0uZ4hkjxqLz3",
        "outputId": "644c927a-b427-486f-f015-42f9316e8f6f"
      },
      "execution_count": 26,
      "outputs": [
        {
          "output_type": "stream",
          "name": "stdout",
          "text": [
            "To solve 5x + 2 = 4 for x, I'll isolate x by using inverse operations.\n",
            "\n",
            "**Step 1:** Subtract 2 from both sides\n",
            "5x + 2 - 2 = 4 - 2\n",
            "5x = 2\n",
            "\n",
            "**Step 2:** Divide both sides by 5\n",
            "5x ÷ 5 = 2 ÷ 5\n",
            "x = 2/5\n",
            "\n",
            "**Answer:** x = 2/5 (or 0.4 as a decimal)\n",
            "\n",
            "**Check:** Let's verify by substituting back into the original equation:\n",
            "5(2/5) + 2 = 2 + 2 = 4 ✓\n"
          ]
        }
      ]
    }
  ]
}