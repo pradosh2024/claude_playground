{
  "cells": [
    {
      "cell_type": "markdown",
      "metadata": {
        "id": "view-in-github",
        "colab_type": "text"
      },
      "source": [
        "<a href=\"https://colab.research.google.com/github/pradosh2024/claude_playground/blob/main/001_requests.ipynb\" target=\"_parent\"><img src=\"https://colab.research.google.com/assets/colab-badge.svg\" alt=\"Open In Colab\"/></a>"
      ]
    },
    {
      "cell_type": "code",
      "execution_count": 2,
      "id": "e383f993",
      "metadata": {
        "colab": {
          "base_uri": "https://localhost:8080/"
        },
        "id": "e383f993",
        "outputId": "486cbaee-6d48-4219-e0ed-7c92d697f6b3"
      },
      "outputs": [
        {
          "output_type": "stream",
          "name": "stdout",
          "text": [
            "Requirement already satisfied: anthropic in /usr/local/lib/python3.11/dist-packages (0.57.1)\n",
            "Requirement already satisfied: python-dotenv in /usr/local/lib/python3.11/dist-packages (1.1.1)\n",
            "Requirement already satisfied: anyio<5,>=3.5.0 in /usr/local/lib/python3.11/dist-packages (from anthropic) (4.9.0)\n",
            "Requirement already satisfied: distro<2,>=1.7.0 in /usr/local/lib/python3.11/dist-packages (from anthropic) (1.9.0)\n",
            "Requirement already satisfied: httpx<1,>=0.25.0 in /usr/local/lib/python3.11/dist-packages (from anthropic) (0.28.1)\n",
            "Requirement already satisfied: jiter<1,>=0.4.0 in /usr/local/lib/python3.11/dist-packages (from anthropic) (0.10.0)\n",
            "Requirement already satisfied: pydantic<3,>=1.9.0 in /usr/local/lib/python3.11/dist-packages (from anthropic) (2.11.7)\n",
            "Requirement already satisfied: sniffio in /usr/local/lib/python3.11/dist-packages (from anthropic) (1.3.1)\n",
            "Requirement already satisfied: typing-extensions<5,>=4.10 in /usr/local/lib/python3.11/dist-packages (from anthropic) (4.14.1)\n",
            "Requirement already satisfied: idna>=2.8 in /usr/local/lib/python3.11/dist-packages (from anyio<5,>=3.5.0->anthropic) (3.10)\n",
            "Requirement already satisfied: certifi in /usr/local/lib/python3.11/dist-packages (from httpx<1,>=0.25.0->anthropic) (2025.7.14)\n",
            "Requirement already satisfied: httpcore==1.* in /usr/local/lib/python3.11/dist-packages (from httpx<1,>=0.25.0->anthropic) (1.0.9)\n",
            "Requirement already satisfied: h11>=0.16 in /usr/local/lib/python3.11/dist-packages (from httpcore==1.*->httpx<1,>=0.25.0->anthropic) (0.16.0)\n",
            "Requirement already satisfied: annotated-types>=0.6.0 in /usr/local/lib/python3.11/dist-packages (from pydantic<3,>=1.9.0->anthropic) (0.7.0)\n",
            "Requirement already satisfied: pydantic-core==2.33.2 in /usr/local/lib/python3.11/dist-packages (from pydantic<3,>=1.9.0->anthropic) (2.33.2)\n",
            "Requirement already satisfied: typing-inspection>=0.4.0 in /usr/local/lib/python3.11/dist-packages (from pydantic<3,>=1.9.0->anthropic) (0.4.1)\n"
          ]
        }
      ],
      "source": [
        "#INSTALL DEPENDENCIES\n",
        "%pip install anthropic python-dotenv"
      ]
    },
    {
      "cell_type": "code",
      "source": [
        "from google.colab import userdata\n"
      ],
      "metadata": {
        "id": "1vJpHqPSIiqg"
      },
      "id": "1vJpHqPSIiqg",
      "execution_count": 13,
      "outputs": []
    },
    {
      "cell_type": "code",
      "execution_count": 17,
      "id": "23aeb751",
      "metadata": {
        "id": "23aeb751"
      },
      "outputs": [],
      "source": [
        "#CREATE AN ANTHROPIC CLIENT\n",
        "from anthropic import Anthropic\n",
        "client = Anthropic(api_key=userdata.get('ANTHROPIC_API_KEY'))\n",
        "model = \"claude-sonnet-4-0\""
      ]
    },
    {
      "cell_type": "code",
      "execution_count": 18,
      "id": "60e393b9",
      "metadata": {
        "id": "60e393b9"
      },
      "outputs": [],
      "source": [
        "#make a request to the Claude API\n",
        "message = \"What is quantum computing? Write in one sentence.\"\n",
        "response = client.messages.create(\n",
        "    model=model,\n",
        "    max_tokens=1000,\n",
        "    messages=[\n",
        "        {\"role\": \"user\", \"content\": message}\n",
        "    ]\n",
        ")"
      ]
    },
    {
      "cell_type": "code",
      "execution_count": 11,
      "id": "851d3d21",
      "metadata": {
        "colab": {
          "base_uri": "https://localhost:8080/"
        },
        "id": "851d3d21",
        "outputId": "e889c3fb-b418-4c7f-bb78-66126506c6bc"
      },
      "outputs": [
        {
          "output_type": "execute_result",
          "data": {
            "text/plain": [
              "Message(id='msg_015CNSdRkMJiRKbYpTdcSG1j', content=[TextBlock(citations=None, text='Quantum computing is a revolutionary computing paradigm that harnesses the principles of quantum mechanics—such as superposition and entanglement—to process information in ways that could potentially solve certain complex problems exponentially faster than classical computers.', type='text')], model='claude-sonnet-4-20250514', role='assistant', stop_reason='end_turn', stop_sequence=None, type='message', usage=Usage(cache_creation_input_tokens=0, cache_read_input_tokens=0, input_tokens=17, output_tokens=49, server_tool_use=None, service_tier='standard'))"
            ]
          },
          "metadata": {},
          "execution_count": 11
        }
      ],
      "source": [
        "response\n"
      ]
    },
    {
      "cell_type": "code",
      "execution_count": 12,
      "id": "5b0c725d",
      "metadata": {
        "colab": {
          "base_uri": "https://localhost:8080/"
        },
        "id": "5b0c725d",
        "outputId": "b51a3b43-de86-4e03-e894-6a589805bb14"
      },
      "outputs": [
        {
          "output_type": "stream",
          "name": "stdout",
          "text": [
            "Claude's response: Quantum computing is a revolutionary computing paradigm that harnesses the principles of quantum mechanics—such as superposition and entanglement—to process information in ways that could potentially solve certain complex problems exponentially faster than classical computers.\n"
          ]
        }
      ],
      "source": [
        "response_text = response.content[0].text if response.content else \"No response content\"\n",
        "print(f\"Claude's response: {response_text}\")"
      ]
    },
    {
      "cell_type": "markdown",
      "id": "4561eabc",
      "metadata": {
        "id": "4561eabc"
      },
      "source": []
    }
  ],
  "metadata": {
    "kernelspec": {
      "display_name": "Claude Project Jupyter Env",
      "language": "python",
      "name": "claudegenaienv"
    },
    "language_info": {
      "codemirror_mode": {
        "name": "ipython",
        "version": 3
      },
      "file_extension": ".py",
      "mimetype": "text/x-python",
      "name": "python",
      "nbconvert_exporter": "python",
      "pygments_lexer": "ipython3",
      "version": "3.13.5"
    },
    "colab": {
      "provenance": [],
      "include_colab_link": true
    }
  },
  "nbformat": 4,
  "nbformat_minor": 5
}