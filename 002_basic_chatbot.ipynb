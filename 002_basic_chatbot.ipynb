{
  "nbformat": 4,
  "nbformat_minor": 0,
  "metadata": {
    "colab": {
      "provenance": [],
      "authorship_tag": "ABX9TyPjmwWFYKGW4tzCgl9GK2Rh",
      "include_colab_link": true
    },
    "kernelspec": {
      "name": "python3",
      "display_name": "Python 3"
    },
    "language_info": {
      "name": "python"
    }
  },
  "cells": [
    {
      "cell_type": "markdown",
      "metadata": {
        "id": "view-in-github",
        "colab_type": "text"
      },
      "source": [
        "<a href=\"https://colab.research.google.com/github/pradosh2024/claude_playground/blob/main/002_basic_chatbot.ipynb\" target=\"_parent\"><img src=\"https://colab.research.google.com/assets/colab-badge.svg\" alt=\"Open In Colab\"/></a>"
      ]
    },
    {
      "cell_type": "markdown",
      "source": [
        "#Ideation\n",
        "\n",
        "### I want to build a chatbot\n",
        "\n",
        "- Enter the Question\n",
        " - What is 1+1 =?\n",
        " - 1+1 =2\n",
        "- Add 2 to the answer\n",
        "\n"
      ],
      "metadata": {
        "id": "x0LNZgQAdIUo"
      }
    },
    {
      "cell_type": "code",
      "source": [
        "#INSTALL DEPENDENCIES\n",
        "%pip install anthropic python-dotenv"
      ],
      "metadata": {
        "colab": {
          "base_uri": "https://localhost:8080/"
        },
        "id": "EjMmaCKqe9ZD",
        "outputId": "6880e015-4725-453f-9a4f-461412e7b618"
      },
      "execution_count": 4,
      "outputs": [
        {
          "output_type": "stream",
          "name": "stdout",
          "text": [
            "Collecting anthropic\n",
            "  Downloading anthropic-0.57.1-py3-none-any.whl.metadata (27 kB)\n",
            "Collecting python-dotenv\n",
            "  Downloading python_dotenv-1.1.1-py3-none-any.whl.metadata (24 kB)\n",
            "Requirement already satisfied: anyio<5,>=3.5.0 in /usr/local/lib/python3.11/dist-packages (from anthropic) (4.9.0)\n",
            "Requirement already satisfied: distro<2,>=1.7.0 in /usr/local/lib/python3.11/dist-packages (from anthropic) (1.9.0)\n",
            "Requirement already satisfied: httpx<1,>=0.25.0 in /usr/local/lib/python3.11/dist-packages (from anthropic) (0.28.1)\n",
            "Requirement already satisfied: jiter<1,>=0.4.0 in /usr/local/lib/python3.11/dist-packages (from anthropic) (0.10.0)\n",
            "Requirement already satisfied: pydantic<3,>=1.9.0 in /usr/local/lib/python3.11/dist-packages (from anthropic) (2.11.7)\n",
            "Requirement already satisfied: sniffio in /usr/local/lib/python3.11/dist-packages (from anthropic) (1.3.1)\n",
            "Requirement already satisfied: typing-extensions<5,>=4.10 in /usr/local/lib/python3.11/dist-packages (from anthropic) (4.14.1)\n",
            "Requirement already satisfied: idna>=2.8 in /usr/local/lib/python3.11/dist-packages (from anyio<5,>=3.5.0->anthropic) (3.10)\n",
            "Requirement already satisfied: certifi in /usr/local/lib/python3.11/dist-packages (from httpx<1,>=0.25.0->anthropic) (2025.7.14)\n",
            "Requirement already satisfied: httpcore==1.* in /usr/local/lib/python3.11/dist-packages (from httpx<1,>=0.25.0->anthropic) (1.0.9)\n",
            "Requirement already satisfied: h11>=0.16 in /usr/local/lib/python3.11/dist-packages (from httpcore==1.*->httpx<1,>=0.25.0->anthropic) (0.16.0)\n",
            "Requirement already satisfied: annotated-types>=0.6.0 in /usr/local/lib/python3.11/dist-packages (from pydantic<3,>=1.9.0->anthropic) (0.7.0)\n",
            "Requirement already satisfied: pydantic-core==2.33.2 in /usr/local/lib/python3.11/dist-packages (from pydantic<3,>=1.9.0->anthropic) (2.33.2)\n",
            "Requirement already satisfied: typing-inspection>=0.4.0 in /usr/local/lib/python3.11/dist-packages (from pydantic<3,>=1.9.0->anthropic) (0.4.1)\n",
            "Downloading anthropic-0.57.1-py3-none-any.whl (292 kB)\n",
            "\u001b[2K   \u001b[90m━━━━━━━━━━━━━━━━━━━━━━━━━━━━━━━━━━━━━━━━\u001b[0m \u001b[32m292.8/292.8 kB\u001b[0m \u001b[31m22.6 MB/s\u001b[0m eta \u001b[36m0:00:00\u001b[0m\n",
            "\u001b[?25hDownloading python_dotenv-1.1.1-py3-none-any.whl (20 kB)\n",
            "Installing collected packages: python-dotenv, anthropic\n",
            "Successfully installed anthropic-0.57.1 python-dotenv-1.1.1\n"
          ]
        }
      ]
    },
    {
      "cell_type": "code",
      "source": [
        "#CREATE AN ANTHROPIC CLIENT\n",
        "from google.colab import userdata\n",
        "#CREATE AN ANTHROPIC CLIENT\n",
        "from anthropic import Anthropic\n",
        "client = Anthropic(api_key=userdata.get('ANTHROPIC_API_KEY'))\n",
        "model = \"claude-sonnet-4-0\""
      ],
      "metadata": {
        "id": "y2g0KYMcepHb"
      },
      "execution_count": 5,
      "outputs": []
    },
    {
      "cell_type": "code",
      "source": [
        "def add_user_message(messages, text):\n",
        "    user_message = {\"role\": \"user\", \"content\": text}\n",
        "    messages.append(user_message)\n",
        "\n",
        "def add_assistant_message(messages, text):\n",
        "    assistant_message = {\"role\": \"assistant\", \"content\": text}\n",
        "    messages.append(assistant_message)\n",
        "\n",
        "#make a request to the Claude API (don't make direct call , make it to a function)\n",
        "def chatbot(message):\n",
        "    response = client.messages.create(\n",
        "        model=model,\n",
        "        max_tokens=1000,\n",
        "        messages=message   )\n",
        "    return response.content[0].text if response.content else \"No response content\""
      ],
      "metadata": {
        "id": "2nMFTqd4ef-W"
      },
      "execution_count": 6,
      "outputs": []
    },
    {
      "cell_type": "code",
      "execution_count": 11,
      "metadata": {
        "colab": {
          "base_uri": "https://localhost:8080/"
        },
        "id": "m6sfBO31c7Wg",
        "outputId": "ddd78107-7f40-4cca-f575-e5d3bc6bb93a"
      },
      "outputs": [
        {
          "output_type": "stream",
          "name": "stdout",
          "text": [
            "> 1+1\n",
            "-------\n",
            "1 + 1 = 2\n",
            "> add 4to it\n",
            "-------\n",
            "2 + 4 = 6\n",
            "> exit\n",
            "Exiting chatbot.\n"
          ]
        }
      ],
      "source": [
        "#Make an intial list of messages\n",
        "messages = []\n",
        "\n",
        "#Use a while True loop to run the chatbot forever\n",
        "while True:\n",
        "  user_input = input(\"> \")\n",
        "  if user_input.lower() in ['quit', 'exit']:\n",
        "    print(\"Exiting chatbot.\")\n",
        "    break\n",
        "  if user_input: # Check if the input is not empty\n",
        "    add_user_message(messages, user_input)\n",
        "    response = chatbot(messages)\n",
        "    add_assistant_message(messages, response)\n",
        "    print(\"-------\")\n",
        "    print(response)\n",
        "  else:\n",
        "    print(\"Please enter a message.\") # Optional: provide feedback to the user"
      ]
    },
    {
      "cell_type": "code",
      "source": [],
      "metadata": {
        "id": "C2DR2UGQd_eH"
      },
      "execution_count": null,
      "outputs": []
    }
  ]
}